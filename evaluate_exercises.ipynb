{
 "cells": [
  {
   "cell_type": "markdown",
   "id": "325c4d4c",
   "metadata": {},
   "source": [
    "# Evaluation Exercises"
   ]
  },
  {
   "cell_type": "code",
   "execution_count": 1,
   "id": "a3049a24",
   "metadata": {},
   "outputs": [],
   "source": [
    "import pandas as pd\n",
    "import numpy as np\n",
    "import matplotlib.pyplot as plt\n",
    "import seaborn as sns\n",
    "\n",
    "from math import sqrt\n",
    "from sklearn.linear_model import LinearRegression\n",
    "from sklearn.metrics import mean_squared_error, r2_score, explained_variance_score\n",
    "\n",
    "import wrangling\n",
    "import modeling\n",
    "\n",
    "import warnings\n",
    "warnings.filterwarnings(\"ignore\")"
   ]
  },
  {
   "cell_type": "markdown",
   "id": "df334ae1",
   "metadata": {},
   "source": [
    "Load your zillow dataset."
   ]
  },
  {
   "cell_type": "code",
   "execution_count": 2,
   "id": "5f1e34f8",
   "metadata": {},
   "outputs": [],
   "source": [
    "df = wrangling.get_zillow()"
   ]
  },
  {
   "cell_type": "code",
   "execution_count": 3,
   "id": "306d7a1f",
   "metadata": {
    "scrolled": true
   },
   "outputs": [
    {
     "data": {
      "text/html": [
       "<div>\n",
       "<style scoped>\n",
       "    .dataframe tbody tr th:only-of-type {\n",
       "        vertical-align: middle;\n",
       "    }\n",
       "\n",
       "    .dataframe tbody tr th {\n",
       "        vertical-align: top;\n",
       "    }\n",
       "\n",
       "    .dataframe thead th {\n",
       "        text-align: right;\n",
       "    }\n",
       "</style>\n",
       "<table border=\"1\" class=\"dataframe\">\n",
       "  <thead>\n",
       "    <tr style=\"text-align: right;\">\n",
       "      <th></th>\n",
       "      <th>bedrooms</th>\n",
       "      <th>bathrooms</th>\n",
       "      <th>square_ft</th>\n",
       "      <th>tax_value</th>\n",
       "      <th>built</th>\n",
       "      <th>taxamount</th>\n",
       "      <th>fips</th>\n",
       "    </tr>\n",
       "  </thead>\n",
       "  <tbody>\n",
       "    <tr>\n",
       "      <th>0</th>\n",
       "      <td>4</td>\n",
       "      <td>2.0</td>\n",
       "      <td>3633</td>\n",
       "      <td>296425</td>\n",
       "      <td>2005</td>\n",
       "      <td>6941.39</td>\n",
       "      <td>6037</td>\n",
       "    </tr>\n",
       "    <tr>\n",
       "      <th>1</th>\n",
       "      <td>3</td>\n",
       "      <td>4.0</td>\n",
       "      <td>1620</td>\n",
       "      <td>847770</td>\n",
       "      <td>2011</td>\n",
       "      <td>10244.94</td>\n",
       "      <td>6037</td>\n",
       "    </tr>\n",
       "    <tr>\n",
       "      <th>2</th>\n",
       "      <td>3</td>\n",
       "      <td>2.0</td>\n",
       "      <td>2077</td>\n",
       "      <td>646760</td>\n",
       "      <td>1926</td>\n",
       "      <td>7924.68</td>\n",
       "      <td>6037</td>\n",
       "    </tr>\n",
       "    <tr>\n",
       "      <th>3</th>\n",
       "      <td>0</td>\n",
       "      <td>0.0</td>\n",
       "      <td>1200</td>\n",
       "      <td>5328</td>\n",
       "      <td>1972</td>\n",
       "      <td>91.60</td>\n",
       "      <td>6037</td>\n",
       "    </tr>\n",
       "    <tr>\n",
       "      <th>4</th>\n",
       "      <td>0</td>\n",
       "      <td>0.0</td>\n",
       "      <td>171</td>\n",
       "      <td>6920</td>\n",
       "      <td>1973</td>\n",
       "      <td>255.17</td>\n",
       "      <td>6037</td>\n",
       "    </tr>\n",
       "  </tbody>\n",
       "</table>\n",
       "</div>"
      ],
      "text/plain": [
       "   bedrooms  bathrooms  square_ft  tax_value  built  taxamount  fips\n",
       "0         4        2.0       3633     296425   2005    6941.39  6037\n",
       "1         3        4.0       1620     847770   2011   10244.94  6037\n",
       "2         3        2.0       2077     646760   1926    7924.68  6037\n",
       "3         0        0.0       1200       5328   1972      91.60  6037\n",
       "4         0        0.0        171       6920   1973     255.17  6037"
      ]
     },
     "execution_count": 3,
     "metadata": {},
     "output_type": "execute_result"
    }
   ],
   "source": [
    "df.head()"
   ]
  },
  {
   "cell_type": "code",
   "execution_count": 59,
   "id": "842ffb9f",
   "metadata": {},
   "outputs": [],
   "source": [
    "train, validate, test = wrangling.subset_df(wrangling.get_zillow())"
   ]
  },
  {
   "cell_type": "code",
   "execution_count": 5,
   "id": "391424f2",
   "metadata": {},
   "outputs": [
    {
     "data": {
      "text/plain": [
       "((1284141, 7), (428047, 7), (428047, 7))"
      ]
     },
     "execution_count": 5,
     "metadata": {},
     "output_type": "execute_result"
    }
   ],
   "source": [
    "train, validate, test = wrangling.subset_df(df)\n",
    "train.shape, validate.shape, test.shape"
   ]
  },
  {
   "cell_type": "code",
   "execution_count": 63,
   "id": "33b47005",
   "metadata": {},
   "outputs": [
    {
     "data": {
      "text/plain": [
       "460673.52"
      ]
     },
     "execution_count": 63,
     "metadata": {},
     "output_type": "execute_result"
    }
   ],
   "source": [
    "baseline = round(train['tax_value'].mean(),2)\n",
    "baseline"
   ]
  },
  {
   "cell_type": "code",
   "execution_count": 137,
   "id": "84b4501c",
   "metadata": {},
   "outputs": [],
   "source": [
    "train = train[['square_ft', 'tax_value']]"
   ]
  },
  {
   "cell_type": "code",
   "execution_count": 138,
   "id": "e64468ef",
   "metadata": {},
   "outputs": [],
   "source": [
    "train['baseline_preds'] = baseline"
   ]
  },
  {
   "cell_type": "markdown",
   "id": "6dc4be56",
   "metadata": {},
   "source": [
    "Fit a linear regression model (ordinary least squares) and compute yhat, predictions of taxvaluedollarcnt using only calculatedfinishedsqft.\n",
    "\n",
    "Here is some sample code to get you started:\n",
    "\n",
    "```python\n",
    "from sklearn.linear_model import LinearRegression\n",
    "\n",
    "# assuming X and y are already defined\n",
    "model = LinearRegression().fit(X, y)\n",
    "predictions = model.predict(X)\n",
    "```\n",
    "Modify and add to the code above as necessary for it to work with the zillow dataset.\n",
    "\n"
   ]
  },
  {
   "cell_type": "code",
   "execution_count": 139,
   "id": "5d225a8a",
   "metadata": {},
   "outputs": [
    {
     "data": {
      "text/html": [
       "<div>\n",
       "<style scoped>\n",
       "    .dataframe tbody tr th:only-of-type {\n",
       "        vertical-align: middle;\n",
       "    }\n",
       "\n",
       "    .dataframe tbody tr th {\n",
       "        vertical-align: top;\n",
       "    }\n",
       "\n",
       "    .dataframe thead th {\n",
       "        text-align: right;\n",
       "    }\n",
       "</style>\n",
       "<table border=\"1\" class=\"dataframe\">\n",
       "  <thead>\n",
       "    <tr style=\"text-align: right;\">\n",
       "      <th></th>\n",
       "      <th>square_ft</th>\n",
       "      <th>tax_value</th>\n",
       "      <th>baseline_preds</th>\n",
       "    </tr>\n",
       "  </thead>\n",
       "  <tbody>\n",
       "    <tr>\n",
       "      <th>53357</th>\n",
       "      <td>1923</td>\n",
       "      <td>196403</td>\n",
       "      <td>460673.52</td>\n",
       "    </tr>\n",
       "    <tr>\n",
       "      <th>1933579</th>\n",
       "      <td>1662</td>\n",
       "      <td>63120</td>\n",
       "      <td>460673.52</td>\n",
       "    </tr>\n",
       "    <tr>\n",
       "      <th>1884570</th>\n",
       "      <td>1200</td>\n",
       "      <td>285762</td>\n",
       "      <td>460673.52</td>\n",
       "    </tr>\n",
       "    <tr>\n",
       "      <th>1664586</th>\n",
       "      <td>1934</td>\n",
       "      <td>138403</td>\n",
       "      <td>460673.52</td>\n",
       "    </tr>\n",
       "    <tr>\n",
       "      <th>1022238</th>\n",
       "      <td>1546</td>\n",
       "      <td>178282</td>\n",
       "      <td>460673.52</td>\n",
       "    </tr>\n",
       "  </tbody>\n",
       "</table>\n",
       "</div>"
      ],
      "text/plain": [
       "         square_ft  tax_value  baseline_preds\n",
       "53357         1923     196403       460673.52\n",
       "1933579       1662      63120       460673.52\n",
       "1884570       1200     285762       460673.52\n",
       "1664586       1934     138403       460673.52\n",
       "1022238       1546     178282       460673.52"
      ]
     },
     "execution_count": 139,
     "metadata": {},
     "output_type": "execute_result"
    }
   ],
   "source": [
    "train.head()"
   ]
  },
  {
   "cell_type": "code",
   "execution_count": 66,
   "id": "b93b8576",
   "metadata": {},
   "outputs": [],
   "source": [
    "ols_model = LinearRegression()"
   ]
  },
  {
   "cell_type": "code",
   "execution_count": 67,
   "id": "d3ea5fb4",
   "metadata": {},
   "outputs": [
    {
     "data": {
      "text/html": [
       "<style>#sk-container-id-2 {color: black;background-color: white;}#sk-container-id-2 pre{padding: 0;}#sk-container-id-2 div.sk-toggleable {background-color: white;}#sk-container-id-2 label.sk-toggleable__label {cursor: pointer;display: block;width: 100%;margin-bottom: 0;padding: 0.3em;box-sizing: border-box;text-align: center;}#sk-container-id-2 label.sk-toggleable__label-arrow:before {content: \"▸\";float: left;margin-right: 0.25em;color: #696969;}#sk-container-id-2 label.sk-toggleable__label-arrow:hover:before {color: black;}#sk-container-id-2 div.sk-estimator:hover label.sk-toggleable__label-arrow:before {color: black;}#sk-container-id-2 div.sk-toggleable__content {max-height: 0;max-width: 0;overflow: hidden;text-align: left;background-color: #f0f8ff;}#sk-container-id-2 div.sk-toggleable__content pre {margin: 0.2em;color: black;border-radius: 0.25em;background-color: #f0f8ff;}#sk-container-id-2 input.sk-toggleable__control:checked~div.sk-toggleable__content {max-height: 200px;max-width: 100%;overflow: auto;}#sk-container-id-2 input.sk-toggleable__control:checked~label.sk-toggleable__label-arrow:before {content: \"▾\";}#sk-container-id-2 div.sk-estimator input.sk-toggleable__control:checked~label.sk-toggleable__label {background-color: #d4ebff;}#sk-container-id-2 div.sk-label input.sk-toggleable__control:checked~label.sk-toggleable__label {background-color: #d4ebff;}#sk-container-id-2 input.sk-hidden--visually {border: 0;clip: rect(1px 1px 1px 1px);clip: rect(1px, 1px, 1px, 1px);height: 1px;margin: -1px;overflow: hidden;padding: 0;position: absolute;width: 1px;}#sk-container-id-2 div.sk-estimator {font-family: monospace;background-color: #f0f8ff;border: 1px dotted black;border-radius: 0.25em;box-sizing: border-box;margin-bottom: 0.5em;}#sk-container-id-2 div.sk-estimator:hover {background-color: #d4ebff;}#sk-container-id-2 div.sk-parallel-item::after {content: \"\";width: 100%;border-bottom: 1px solid gray;flex-grow: 1;}#sk-container-id-2 div.sk-label:hover label.sk-toggleable__label {background-color: #d4ebff;}#sk-container-id-2 div.sk-serial::before {content: \"\";position: absolute;border-left: 1px solid gray;box-sizing: border-box;top: 0;bottom: 0;left: 50%;z-index: 0;}#sk-container-id-2 div.sk-serial {display: flex;flex-direction: column;align-items: center;background-color: white;padding-right: 0.2em;padding-left: 0.2em;position: relative;}#sk-container-id-2 div.sk-item {position: relative;z-index: 1;}#sk-container-id-2 div.sk-parallel {display: flex;align-items: stretch;justify-content: center;background-color: white;position: relative;}#sk-container-id-2 div.sk-item::before, #sk-container-id-2 div.sk-parallel-item::before {content: \"\";position: absolute;border-left: 1px solid gray;box-sizing: border-box;top: 0;bottom: 0;left: 50%;z-index: -1;}#sk-container-id-2 div.sk-parallel-item {display: flex;flex-direction: column;z-index: 1;position: relative;background-color: white;}#sk-container-id-2 div.sk-parallel-item:first-child::after {align-self: flex-end;width: 50%;}#sk-container-id-2 div.sk-parallel-item:last-child::after {align-self: flex-start;width: 50%;}#sk-container-id-2 div.sk-parallel-item:only-child::after {width: 0;}#sk-container-id-2 div.sk-dashed-wrapped {border: 1px dashed gray;margin: 0 0.4em 0.5em 0.4em;box-sizing: border-box;padding-bottom: 0.4em;background-color: white;}#sk-container-id-2 div.sk-label label {font-family: monospace;font-weight: bold;display: inline-block;line-height: 1.2em;}#sk-container-id-2 div.sk-label-container {text-align: center;}#sk-container-id-2 div.sk-container {/* jupyter's `normalize.less` sets `[hidden] { display: none; }` but bootstrap.min.css set `[hidden] { display: none !important; }` so we also need the `!important` here to be able to override the default hidden behavior on the sphinx rendered scikit-learn.org. See: https://github.com/scikit-learn/scikit-learn/issues/21755 */display: inline-block !important;position: relative;}#sk-container-id-2 div.sk-text-repr-fallback {display: none;}</style><div id=\"sk-container-id-2\" class=\"sk-top-container\"><div class=\"sk-text-repr-fallback\"><pre>LinearRegression()</pre><b>In a Jupyter environment, please rerun this cell to show the HTML representation or trust the notebook. <br />On GitHub, the HTML representation is unable to render, please try loading this page with nbviewer.org.</b></div><div class=\"sk-container\" hidden><div class=\"sk-item\"><div class=\"sk-estimator sk-toggleable\"><input class=\"sk-toggleable__control sk-hidden--visually\" id=\"sk-estimator-id-2\" type=\"checkbox\" checked><label for=\"sk-estimator-id-2\" class=\"sk-toggleable__label sk-toggleable__label-arrow\">LinearRegression</label><div class=\"sk-toggleable__content\"><pre>LinearRegression()</pre></div></div></div></div></div>"
      ],
      "text/plain": [
       "LinearRegression()"
      ]
     },
     "execution_count": 67,
     "metadata": {},
     "output_type": "execute_result"
    }
   ],
   "source": [
    "ols_model.fit(train[['square_ft']], train[['tax_value']])"
   ]
  },
  {
   "cell_type": "code",
   "execution_count": 140,
   "id": "f6554eb7",
   "metadata": {},
   "outputs": [],
   "source": [
    "train['yhat'] = ols_model.predict(train[['square_ft']])"
   ]
  },
  {
   "cell_type": "code",
   "execution_count": 142,
   "id": "70ac5c01",
   "metadata": {},
   "outputs": [],
   "source": [
    "train['residuals'] = train.yhat - train.tax_value"
   ]
  },
  {
   "cell_type": "code",
   "execution_count": 143,
   "id": "159832f7",
   "metadata": {},
   "outputs": [
    {
     "data": {
      "text/html": [
       "<div>\n",
       "<style scoped>\n",
       "    .dataframe tbody tr th:only-of-type {\n",
       "        vertical-align: middle;\n",
       "    }\n",
       "\n",
       "    .dataframe tbody tr th {\n",
       "        vertical-align: top;\n",
       "    }\n",
       "\n",
       "    .dataframe thead th {\n",
       "        text-align: right;\n",
       "    }\n",
       "</style>\n",
       "<table border=\"1\" class=\"dataframe\">\n",
       "  <thead>\n",
       "    <tr style=\"text-align: right;\">\n",
       "      <th></th>\n",
       "      <th>square_ft</th>\n",
       "      <th>tax_value</th>\n",
       "      <th>baseline_preds</th>\n",
       "      <th>yhat</th>\n",
       "      <th>residuals</th>\n",
       "    </tr>\n",
       "  </thead>\n",
       "  <tbody>\n",
       "    <tr>\n",
       "      <th>53357</th>\n",
       "      <td>1923</td>\n",
       "      <td>196403</td>\n",
       "      <td>460673.52</td>\n",
       "      <td>473750.168320</td>\n",
       "      <td>277347.168320</td>\n",
       "    </tr>\n",
       "    <tr>\n",
       "      <th>1933579</th>\n",
       "      <td>1662</td>\n",
       "      <td>63120</td>\n",
       "      <td>460673.52</td>\n",
       "      <td>417129.975382</td>\n",
       "      <td>354009.975382</td>\n",
       "    </tr>\n",
       "    <tr>\n",
       "      <th>1884570</th>\n",
       "      <td>1200</td>\n",
       "      <td>285762</td>\n",
       "      <td>460673.52</td>\n",
       "      <td>316905.725814</td>\n",
       "      <td>31143.725814</td>\n",
       "    </tr>\n",
       "    <tr>\n",
       "      <th>1664586</th>\n",
       "      <td>1934</td>\n",
       "      <td>138403</td>\n",
       "      <td>460673.52</td>\n",
       "      <td>476136.459976</td>\n",
       "      <td>337733.459976</td>\n",
       "    </tr>\n",
       "    <tr>\n",
       "      <th>1022238</th>\n",
       "      <td>1546</td>\n",
       "      <td>178282</td>\n",
       "      <td>460673.52</td>\n",
       "      <td>391965.445187</td>\n",
       "      <td>213683.445187</td>\n",
       "    </tr>\n",
       "  </tbody>\n",
       "</table>\n",
       "</div>"
      ],
      "text/plain": [
       "         square_ft  tax_value  baseline_preds           yhat      residuals\n",
       "53357         1923     196403       460673.52  473750.168320  277347.168320\n",
       "1933579       1662      63120       460673.52  417129.975382  354009.975382\n",
       "1884570       1200     285762       460673.52  316905.725814   31143.725814\n",
       "1664586       1934     138403       460673.52  476136.459976  337733.459976\n",
       "1022238       1546     178282       460673.52  391965.445187  213683.445187"
      ]
     },
     "execution_count": 143,
     "metadata": {},
     "output_type": "execute_result"
    }
   ],
   "source": [
    "train.head()"
   ]
  },
  {
   "cell_type": "markdown",
   "id": "f34fa9d1",
   "metadata": {},
   "source": [
    "Plot the residuals for the linear regression model that you made.\n",
    "\n"
   ]
  },
  {
   "cell_type": "code",
   "execution_count": 14,
   "id": "b76e3ecb",
   "metadata": {},
   "outputs": [
    {
     "data": {
      "image/png": "[encoded data removed]",
      "text/plain": [
       "<Figure size 640x480 with 1 Axes>"
      ]
     },
     "metadata": {},
     "output_type": "display_data"
    }
   ],
   "source": [
    "plt.scatter(train['tax_value'], train['baseline_residuals'])\n",
    "plt.xlabel('Square Feet')\n",
    "plt.ylabel('Baseline Residual')\n",
    "plt.show()"
   ]
  },
  {
   "cell_type": "code",
   "execution_count": 15,
   "id": "3ca72897",
   "metadata": {},
   "outputs": [
    {
     "data": {
      "image/png": "[encoded data removed]",
      "text/plain": [
       "<Figure size 640x480 with 1 Axes>"
      ]
     },
     "metadata": {},
     "output_type": "display_data"
    }
   ],
   "source": [
    "plt.scatter(preds['tax_value'], preds['yhat_residuals'])\n",
    "plt.xlabel('Square Feet')\n",
    "plt.ylabel('Predicted Residual')\n",
    "plt.show()"
   ]
  },
  {
   "cell_type": "markdown",
   "id": "3dec3d36",
   "metadata": {},
   "source": [
    "Calculate the sum of squared errors, explained sum of squares, total sum of squares, mean squared error, and root mean squared error for your model.\n",
    "\n"
   ]
  },
  {
   "cell_type": "markdown",
   "id": "4d8b3481",
   "metadata": {},
   "source": [
    "### SSE"
   ]
  },
  {
   "cell_type": "code",
   "execution_count": 146,
   "id": "a237168e",
   "metadata": {},
   "outputs": [
    {
     "data": {
      "text/plain": [
       "4.829883000818784e+17"
      ]
     },
     "execution_count": 146,
     "metadata": {},
     "output_type": "execute_result"
    }
   ],
   "source": [
    "sse = (train['residuals'] ** 2).sum()\n",
    "sse"
   ]
  },
  {
   "cell_type": "code",
   "execution_count": 17,
   "id": "7a0f4add",
   "metadata": {},
   "outputs": [
    {
     "data": {
      "text/plain": [
       "(5.952576092982139e+17, 4.8298830008187846e+17)"
      ]
     },
     "execution_count": 17,
     "metadata": {},
     "output_type": "execute_result"
    }
   ],
   "source": [
    "sse_baseline = mean_squared_error(preds['tax_value'], preds['baseline_preds'])*len(preds)\n",
    "sse_yhat = mean_squared_error(preds['tax_value'], preds['yhat'])*len(preds)\n",
    "\n",
    "sse_baseline, sse_yhat"
   ]
  },
  {
   "cell_type": "markdown",
   "id": "153f55d2",
   "metadata": {},
   "source": [
    "### MSE"
   ]
  },
  {
   "cell_type": "code",
   "execution_count": 18,
   "id": "666ba417",
   "metadata": {},
   "outputs": [
    {
     "data": {
      "text/plain": [
       "(463545365577.6226, 376117809556.64404)"
      ]
     },
     "execution_count": 18,
     "metadata": {},
     "output_type": "execute_result"
    }
   ],
   "source": [
    "mse_baseline = mean_squared_error(preds['tax_value'], preds['baseline_preds'])\n",
    "mse_yhat = mean_squared_error(preds['tax_value'], preds['yhat'])\n",
    "\n",
    "mse_baseline, mse_yhat"
   ]
  },
  {
   "cell_type": "markdown",
   "id": "a7238877",
   "metadata": {},
   "source": [
    "### RMSE"
   ]
  },
  {
   "cell_type": "code",
   "execution_count": 19,
   "id": "d2207a90",
   "metadata": {},
   "outputs": [
    {
     "data": {
      "text/plain": [
       "(680841.6596960138, 613284.4442480537)"
      ]
     },
     "execution_count": 19,
     "metadata": {},
     "output_type": "execute_result"
    }
   ],
   "source": [
    "rmse_baseline = sqrt(mean_squared_error(preds['tax_value'], preds['baseline_preds']))\n",
    "rmse_yhat = sqrt(mean_squared_error(preds['tax_value'], preds['yhat']))\n",
    "\n",
    "rmse_baseline, rmse_yhat"
   ]
  },
  {
   "cell_type": "markdown",
   "id": "fa29ff43",
   "metadata": {},
   "source": [
    "### ESS "
   ]
  },
  {
   "cell_type": "code",
   "execution_count": 20,
   "id": "bcc4b7f5",
   "metadata": {},
   "outputs": [
    {
     "data": {
      "text/html": [
       "<div>\n",
       "<style scoped>\n",
       "    .dataframe tbody tr th:only-of-type {\n",
       "        vertical-align: middle;\n",
       "    }\n",
       "\n",
       "    .dataframe tbody tr th {\n",
       "        vertical-align: top;\n",
       "    }\n",
       "\n",
       "    .dataframe thead th {\n",
       "        text-align: right;\n",
       "    }\n",
       "</style>\n",
       "<table border=\"1\" class=\"dataframe\">\n",
       "  <thead>\n",
       "    <tr style=\"text-align: right;\">\n",
       "      <th></th>\n",
       "      <th>square_ft</th>\n",
       "      <th>tax_value</th>\n",
       "      <th>baseline_preds</th>\n",
       "      <th>yhat</th>\n",
       "      <th>baseline_residuals</th>\n",
       "      <th>yhat_residuals</th>\n",
       "      <th>baseline_res_squared</th>\n",
       "      <th>yhat_res_squared</th>\n",
       "      <th>yhat_mean_res</th>\n",
       "    </tr>\n",
       "  </thead>\n",
       "  <tbody>\n",
       "    <tr>\n",
       "      <th>53357</th>\n",
       "      <td>1923</td>\n",
       "      <td>196403</td>\n",
       "      <td>460673.52</td>\n",
       "      <td>473750.168320</td>\n",
       "      <td>264270.52</td>\n",
       "      <td>277347.168320</td>\n",
       "      <td>6.983891e+10</td>\n",
       "      <td>7.692145e+10</td>\n",
       "      <td>13076.648320</td>\n",
       "    </tr>\n",
       "    <tr>\n",
       "      <th>1933579</th>\n",
       "      <td>1662</td>\n",
       "      <td>63120</td>\n",
       "      <td>460673.52</td>\n",
       "      <td>417129.975382</td>\n",
       "      <td>397553.52</td>\n",
       "      <td>354009.975382</td>\n",
       "      <td>1.580488e+11</td>\n",
       "      <td>1.253231e+11</td>\n",
       "      <td>-43543.544618</td>\n",
       "    </tr>\n",
       "    <tr>\n",
       "      <th>1884570</th>\n",
       "      <td>1200</td>\n",
       "      <td>285762</td>\n",
       "      <td>460673.52</td>\n",
       "      <td>316905.725814</td>\n",
       "      <td>174911.52</td>\n",
       "      <td>31143.725814</td>\n",
       "      <td>3.059404e+10</td>\n",
       "      <td>9.699317e+08</td>\n",
       "      <td>-143767.794186</td>\n",
       "    </tr>\n",
       "    <tr>\n",
       "      <th>1664586</th>\n",
       "      <td>1934</td>\n",
       "      <td>138403</td>\n",
       "      <td>460673.52</td>\n",
       "      <td>476136.459976</td>\n",
       "      <td>322270.52</td>\n",
       "      <td>337733.459976</td>\n",
       "      <td>1.038583e+11</td>\n",
       "      <td>1.140639e+11</td>\n",
       "      <td>15462.939976</td>\n",
       "    </tr>\n",
       "    <tr>\n",
       "      <th>1022238</th>\n",
       "      <td>1546</td>\n",
       "      <td>178282</td>\n",
       "      <td>460673.52</td>\n",
       "      <td>391965.445187</td>\n",
       "      <td>282391.52</td>\n",
       "      <td>213683.445187</td>\n",
       "      <td>7.974497e+10</td>\n",
       "      <td>4.566061e+10</td>\n",
       "      <td>-68708.074813</td>\n",
       "    </tr>\n",
       "  </tbody>\n",
       "</table>\n",
       "</div>"
      ],
      "text/plain": [
       "         square_ft  tax_value  baseline_preds           yhat  \\\n",
       "53357         1923     196403       460673.52  473750.168320   \n",
       "1933579       1662      63120       460673.52  417129.975382   \n",
       "1884570       1200     285762       460673.52  316905.725814   \n",
       "1664586       1934     138403       460673.52  476136.459976   \n",
       "1022238       1546     178282       460673.52  391965.445187   \n",
       "\n",
       "         baseline_residuals  yhat_residuals  baseline_res_squared  \\\n",
       "53357             264270.52   277347.168320          6.983891e+10   \n",
       "1933579           397553.52   354009.975382          1.580488e+11   \n",
       "1884570           174911.52    31143.725814          3.059404e+10   \n",
       "1664586           322270.52   337733.459976          1.038583e+11   \n",
       "1022238           282391.52   213683.445187          7.974497e+10   \n",
       "\n",
       "         yhat_res_squared  yhat_mean_res  \n",
       "53357        7.692145e+10   13076.648320  \n",
       "1933579      1.253231e+11  -43543.544618  \n",
       "1884570      9.699317e+08 -143767.794186  \n",
       "1664586      1.140639e+11   15462.939976  \n",
       "1022238      4.566061e+10  -68708.074813  "
      ]
     },
     "execution_count": 20,
     "metadata": {},
     "output_type": "execute_result"
    }
   ],
   "source": [
    "preds['yhat_mean_res'] = preds['yhat'] - preds['baseline_preds']\n",
    "preds.head()"
   ]
  },
  {
   "cell_type": "code",
   "execution_count": 21,
   "id": "41691028",
   "metadata": {
    "scrolled": true
   },
   "outputs": [
    {
     "data": {
      "text/plain": [
       "1.1226930921639934e+17"
      ]
     },
     "execution_count": 21,
     "metadata": {},
     "output_type": "execute_result"
    }
   ],
   "source": [
    "preds['yhat_mean_res_squared'] = preds['yhat_mean_res'] ** 2\n",
    "ess_baseline = 0\n",
    "ess_yhat = preds['yhat_mean_res_squared'].sum()\n",
    "ess_yhat"
   ]
  },
  {
   "cell_type": "markdown",
   "id": "8550ec22",
   "metadata": {},
   "source": [
    "### TSS"
   ]
  },
  {
   "cell_type": "code",
   "execution_count": 22,
   "id": "359e3e85",
   "metadata": {},
   "outputs": [
    {
     "data": {
      "text/plain": [
       "(5.952576092982139e+17, 5.952576092982778e+17)"
      ]
     },
     "execution_count": 22,
     "metadata": {},
     "output_type": "execute_result"
    }
   ],
   "source": [
    "tss_baseline = sse_baseline + ess_baseline\n",
    "tss_yhat = sse_yhat + ess_yhat\n",
    "\n",
    "tss_baseline, tss_yhat"
   ]
  },
  {
   "cell_type": "code",
   "execution_count": 23,
   "id": "c36f5787",
   "metadata": {},
   "outputs": [
    {
     "data": {
      "text/plain": [
       "0.18860625628750644"
      ]
     },
     "execution_count": 23,
     "metadata": {},
     "output_type": "execute_result"
    }
   ],
   "source": [
    "ess_yhat / tss_yhat"
   ]
  },
  {
   "cell_type": "code",
   "execution_count": 24,
   "id": "72da9942",
   "metadata": {},
   "outputs": [
    {
     "data": {
      "text/plain": [
       "(5.952576092982139e+17,\n",
       " 0,\n",
       " 5.952576092982139e+17,\n",
       " 463545365577.6226,\n",
       " 680841.6596960138)"
      ]
     },
     "execution_count": 24,
     "metadata": {},
     "output_type": "execute_result"
    }
   ],
   "source": [
    "sse_baseline, ess_baseline, tss_baseline, mse_baseline, rmse_baseline"
   ]
  },
  {
   "cell_type": "code",
   "execution_count": 25,
   "id": "cd8623d5",
   "metadata": {},
   "outputs": [
    {
     "data": {
      "text/plain": [
       "0.18860625628741956"
      ]
     },
     "execution_count": 25,
     "metadata": {},
     "output_type": "execute_result"
    }
   ],
   "source": [
    "explained_variance_score(preds['tax_value'], preds['yhat'])"
   ]
  },
  {
   "cell_type": "markdown",
   "id": "b850393b",
   "metadata": {},
   "source": [
    "Calculate the sum of squared errors, mean squared error, and root mean squared error for the baseline model (i.e. a model that always predicts the average taxvaluedollarcnt amount).\n",
    "\n"
   ]
  },
  {
   "cell_type": "code",
   "execution_count": 26,
   "id": "afd460f8",
   "metadata": {},
   "outputs": [
    {
     "data": {
      "text/plain": [
       "(4.8298830008187846e+17,\n",
       " 1.1226930921639934e+17,\n",
       " 5.952576092982778e+17,\n",
       " 376117809556.64404,\n",
       " 613284.4442480537)"
      ]
     },
     "execution_count": 26,
     "metadata": {},
     "output_type": "execute_result"
    }
   ],
   "source": [
    "sse_yhat, ess_yhat, tss_yhat, mse_yhat, rmse_yhat"
   ]
  },
  {
   "cell_type": "code",
   "execution_count": 27,
   "id": "390ac4ff",
   "metadata": {},
   "outputs": [
    {
     "data": {
      "text/plain": [
       "0.0"
      ]
     },
     "execution_count": 27,
     "metadata": {},
     "output_type": "execute_result"
    }
   ],
   "source": [
    "explained_variance_score(preds['tax_value'], preds['baseline_preds'])"
   ]
  },
  {
   "cell_type": "markdown",
   "id": "9e822870",
   "metadata": {},
   "source": [
    "Write python code that compares the sum of squared errors for your model against the sum of squared errors for the baseline model and outputs whether or not your model performs better than the baseline model.\n",
    "\n"
   ]
  },
  {
   "cell_type": "code",
   "execution_count": 35,
   "id": "21a520e0",
   "metadata": {},
   "outputs": [
    {
     "name": "stdout",
     "output_type": "stream",
     "text": [
      "Model outperformed my baseline predictions\n"
     ]
    }
   ],
   "source": [
    "if sse_yhat > sse_baseline:\n",
    "    \n",
    "    print('Model did not outperform my baseline predicitons')\n",
    "    \n",
    "else:\n",
    "    \n",
    "    print('Model outperformed my baseline predictions')"
   ]
  },
  {
   "cell_type": "markdown",
   "id": "b939706a",
   "metadata": {},
   "source": [
    "What is the amount of variance explained in your model?\n",
    "\n"
   ]
  },
  {
   "cell_type": "code",
   "execution_count": 29,
   "id": "574efacb",
   "metadata": {},
   "outputs": [],
   "source": [
    "preds_variance = round(explained_variance_score(preds['tax_value'], preds['yhat']), 2)"
   ]
  },
  {
   "cell_type": "code",
   "execution_count": 30,
   "id": "be10215f",
   "metadata": {},
   "outputs": [
    {
     "name": "stdout",
     "output_type": "stream",
     "text": [
      "The variance in my model is: 0.19\n"
     ]
    }
   ],
   "source": [
    "print(f'The variance in my model is: {preds_variance}')"
   ]
  },
  {
   "cell_type": "markdown",
   "id": "6b437d39",
   "metadata": {},
   "source": [
    "Is your model better than the baseline model?\n",
    "\n"
   ]
  },
  {
   "cell_type": "markdown",
   "id": "d8885bee",
   "metadata": {},
   "source": [
    "- Yes. It's not amazing, but it did outperform the baseline predictions"
   ]
  },
  {
   "cell_type": "markdown",
   "id": "ba16cbdb",
   "metadata": {},
   "source": [
    "Create a file named evaluate.py that contains the following functions.\n",
    "\n",
    "`plot_residuals(y, yhat)`: creates a residual plot  \n",
    "`regression_errors(y, yhat)`: returns the following values:\n",
    "\n",
    "- sum of squared errors (SSE)\n",
    "- explained sum of squares (ESS)\n",
    "- total sum of squares (TSS)\n",
    "- mean squared error (MSE)\n",
    "- root mean squared error (RMSE)  \n",
    "\n",
    "`baseline_mean_errors(y)`: computes the SSE, MSE, and RMSE for the baseline model  \n",
    "`better_than_baseline(y, yhat)`: returns true if your model performs better than the baseline, otherwise false"
   ]
  },
  {
   "cell_type": "code",
   "execution_count": 55,
   "id": "11ced027",
   "metadata": {},
   "outputs": [],
   "source": [
    "def plot_residuals(train, target, yhat):\n",
    "        \n",
    "        sns.regplot(data = train.sample(10000), x = target, y = yhat)\n",
    "        plt.xlabel('Tax Value')\n",
    "        plt.ylabel('Prediction')\n",
    "        plt.legend()\n",
    "        plt.show()"
   ]
  },
  {
   "cell_type": "code",
   "execution_count": 56,
   "id": "e8185d91",
   "metadata": {},
   "outputs": [
    {
     "name": "stderr",
     "output_type": "stream",
     "text": [
      "No artists with labels found to put in legend.  Note that artists whose label start with an underscore are ignored when legend() is called with no argument.\n"
     ]
    },
    {
     "data": {
      "image/png": "[encoded data removed]",
      "text/plain": [
       "<Figure size 640x480 with 1 Axes>"
      ]
     },
     "metadata": {},
     "output_type": "display_data"
    }
   ],
   "source": [
    "plot_residuals(preds, 'tax_value', 'yhat')"
   ]
  },
  {
   "cell_type": "code",
   "execution_count": 104,
   "id": "e8be39ac",
   "metadata": {},
   "outputs": [],
   "source": [
    "def regression_errors(preds, target, yhat):\n",
    "    \n",
    "    seed = 42\n",
    "\n",
    "    preds['baseline_residuals'] = preds['baseline_preds'] - preds[target]\n",
    "    preds['yhat_residuals'] = preds[yhat] - preds[target]\n",
    "    \n",
    "    preds['baseline_res_squared'] = preds['baseline_residuals'] ** 2\n",
    "    preds['yhat_res_squared'] = preds['yhat_residuals'] ** 2\n",
    "        \n",
    "    preds['yhat_mean_res'] = preds[yhat] - preds['baseline_preds']\n",
    "    preds['yhat_mean_res_squared'] = preds['yhat_mean_res'] ** 2\n",
    "    \n",
    "    sse_yhat = mean_squared_error(preds[target], preds[yhat])*len(preds)\n",
    "    ess_yhat = preds['yhat_mean_res_squared'].sum()\n",
    "    tss_yhat = sse_yhat + ess_yhat\n",
    "    mse_yhat = mean_squared_error(preds[target], preds[yhat])\n",
    "    rmse_yhat = sqrt(mean_squared_error(preds[target], preds[yhat]))\n",
    "    \n",
    "    var_score = explained_variance_score(preds[target], preds[yhat])\n",
    "    \n",
    "    eval_metrics = pd.DataFrame(np.array(['sse','ess','tss', 'mse', 'rmse', 'var_score']), columns=['metric'])\n",
    "    eval_metrics['model_values'] = [sse_yhat, ess_yhat, tss_yhat, mse_yhat, rmse_yhat, var_score]\n",
    "\n",
    "    return preds, eval_metrics"
   ]
  },
  {
   "cell_type": "code",
   "execution_count": 105,
   "id": "361dc36d",
   "metadata": {
    "scrolled": true
   },
   "outputs": [],
   "source": [
    "preds, eval_metrics = regression_errors(preds, 'tax_value', 'yhat')"
   ]
  },
  {
   "cell_type": "code",
   "execution_count": 106,
   "id": "8d24a8c8",
   "metadata": {},
   "outputs": [
    {
     "data": {
      "text/html": [
       "<div>\n",
       "<style scoped>\n",
       "    .dataframe tbody tr th:only-of-type {\n",
       "        vertical-align: middle;\n",
       "    }\n",
       "\n",
       "    .dataframe tbody tr th {\n",
       "        vertical-align: top;\n",
       "    }\n",
       "\n",
       "    .dataframe thead th {\n",
       "        text-align: right;\n",
       "    }\n",
       "</style>\n",
       "<table border=\"1\" class=\"dataframe\">\n",
       "  <thead>\n",
       "    <tr style=\"text-align: right;\">\n",
       "      <th></th>\n",
       "      <th>square_ft</th>\n",
       "      <th>tax_value</th>\n",
       "      <th>baseline_preds</th>\n",
       "      <th>yhat</th>\n",
       "      <th>baseline_residuals</th>\n",
       "      <th>yhat_residuals</th>\n",
       "      <th>baseline_res_squared</th>\n",
       "      <th>yhat_res_squared</th>\n",
       "      <th>yhat_mean_res</th>\n",
       "      <th>yhat_mean_res_squared</th>\n",
       "    </tr>\n",
       "  </thead>\n",
       "  <tbody>\n",
       "    <tr>\n",
       "      <th>53357</th>\n",
       "      <td>1923</td>\n",
       "      <td>196403</td>\n",
       "      <td>460673.52</td>\n",
       "      <td>473750.168320</td>\n",
       "      <td>264270.52</td>\n",
       "      <td>277347.168320</td>\n",
       "      <td>6.983891e+10</td>\n",
       "      <td>7.692145e+10</td>\n",
       "      <td>13076.648320</td>\n",
       "      <td>1.709987e+08</td>\n",
       "    </tr>\n",
       "    <tr>\n",
       "      <th>1933579</th>\n",
       "      <td>1662</td>\n",
       "      <td>63120</td>\n",
       "      <td>460673.52</td>\n",
       "      <td>417129.975382</td>\n",
       "      <td>397553.52</td>\n",
       "      <td>354009.975382</td>\n",
       "      <td>1.580488e+11</td>\n",
       "      <td>1.253231e+11</td>\n",
       "      <td>-43543.544618</td>\n",
       "      <td>1.896040e+09</td>\n",
       "    </tr>\n",
       "    <tr>\n",
       "      <th>1884570</th>\n",
       "      <td>1200</td>\n",
       "      <td>285762</td>\n",
       "      <td>460673.52</td>\n",
       "      <td>316905.725814</td>\n",
       "      <td>174911.52</td>\n",
       "      <td>31143.725814</td>\n",
       "      <td>3.059404e+10</td>\n",
       "      <td>9.699317e+08</td>\n",
       "      <td>-143767.794186</td>\n",
       "      <td>2.066918e+10</td>\n",
       "    </tr>\n",
       "    <tr>\n",
       "      <th>1664586</th>\n",
       "      <td>1934</td>\n",
       "      <td>138403</td>\n",
       "      <td>460673.52</td>\n",
       "      <td>476136.459976</td>\n",
       "      <td>322270.52</td>\n",
       "      <td>337733.459976</td>\n",
       "      <td>1.038583e+11</td>\n",
       "      <td>1.140639e+11</td>\n",
       "      <td>15462.939976</td>\n",
       "      <td>2.391025e+08</td>\n",
       "    </tr>\n",
       "    <tr>\n",
       "      <th>1022238</th>\n",
       "      <td>1546</td>\n",
       "      <td>178282</td>\n",
       "      <td>460673.52</td>\n",
       "      <td>391965.445187</td>\n",
       "      <td>282391.52</td>\n",
       "      <td>213683.445187</td>\n",
       "      <td>7.974497e+10</td>\n",
       "      <td>4.566061e+10</td>\n",
       "      <td>-68708.074813</td>\n",
       "      <td>4.720800e+09</td>\n",
       "    </tr>\n",
       "    <tr>\n",
       "      <th>...</th>\n",
       "      <td>...</td>\n",
       "      <td>...</td>\n",
       "      <td>...</td>\n",
       "      <td>...</td>\n",
       "      <td>...</td>\n",
       "      <td>...</td>\n",
       "      <td>...</td>\n",
       "      <td>...</td>\n",
       "      <td>...</td>\n",
       "      <td>...</td>\n",
       "    </tr>\n",
       "    <tr>\n",
       "      <th>2003274</th>\n",
       "      <td>1281</td>\n",
       "      <td>297096</td>\n",
       "      <td>460673.52</td>\n",
       "      <td>334477.509829</td>\n",
       "      <td>163577.52</td>\n",
       "      <td>37381.509829</td>\n",
       "      <td>2.675761e+10</td>\n",
       "      <td>1.397377e+09</td>\n",
       "      <td>-126196.010171</td>\n",
       "      <td>1.592543e+10</td>\n",
       "    </tr>\n",
       "    <tr>\n",
       "      <th>1570006</th>\n",
       "      <td>1630</td>\n",
       "      <td>179979</td>\n",
       "      <td>460673.52</td>\n",
       "      <td>410188.036018</td>\n",
       "      <td>280694.52</td>\n",
       "      <td>230209.036018</td>\n",
       "      <td>7.878941e+10</td>\n",
       "      <td>5.299620e+10</td>\n",
       "      <td>-50485.483982</td>\n",
       "      <td>2.548784e+09</td>\n",
       "    </tr>\n",
       "    <tr>\n",
       "      <th>732180</th>\n",
       "      <td>1517</td>\n",
       "      <td>735768</td>\n",
       "      <td>460673.52</td>\n",
       "      <td>385674.312639</td>\n",
       "      <td>-275094.48</td>\n",
       "      <td>-350093.687361</td>\n",
       "      <td>7.567697e+10</td>\n",
       "      <td>1.225656e+11</td>\n",
       "      <td>-74999.207361</td>\n",
       "      <td>5.624881e+09</td>\n",
       "    </tr>\n",
       "    <tr>\n",
       "      <th>110268</th>\n",
       "      <td>1390</td>\n",
       "      <td>788601</td>\n",
       "      <td>460673.52</td>\n",
       "      <td>358123.490788</td>\n",
       "      <td>-327927.48</td>\n",
       "      <td>-430477.509212</td>\n",
       "      <td>1.075364e+11</td>\n",
       "      <td>1.853109e+11</td>\n",
       "      <td>-102550.029212</td>\n",
       "      <td>1.051651e+10</td>\n",
       "    </tr>\n",
       "    <tr>\n",
       "      <th>1692743</th>\n",
       "      <td>2070</td>\n",
       "      <td>185523</td>\n",
       "      <td>460673.52</td>\n",
       "      <td>505639.702273</td>\n",
       "      <td>275150.52</td>\n",
       "      <td>320116.702273</td>\n",
       "      <td>7.570781e+10</td>\n",
       "      <td>1.024747e+11</td>\n",
       "      <td>44966.182273</td>\n",
       "      <td>2.021958e+09</td>\n",
       "    </tr>\n",
       "  </tbody>\n",
       "</table>\n",
       "<p>1284141 rows × 10 columns</p>\n",
       "</div>"
      ],
      "text/plain": [
       "         square_ft  tax_value  baseline_preds           yhat  \\\n",
       "53357         1923     196403       460673.52  473750.168320   \n",
       "1933579       1662      63120       460673.52  417129.975382   \n",
       "1884570       1200     285762       460673.52  316905.725814   \n",
       "1664586       1934     138403       460673.52  476136.459976   \n",
       "1022238       1546     178282       460673.52  391965.445187   \n",
       "...            ...        ...             ...            ...   \n",
       "2003274       1281     297096       460673.52  334477.509829   \n",
       "1570006       1630     179979       460673.52  410188.036018   \n",
       "732180        1517     735768       460673.52  385674.312639   \n",
       "110268        1390     788601       460673.52  358123.490788   \n",
       "1692743       2070     185523       460673.52  505639.702273   \n",
       "\n",
       "         baseline_residuals  yhat_residuals  baseline_res_squared  \\\n",
       "53357             264270.52   277347.168320          6.983891e+10   \n",
       "1933579           397553.52   354009.975382          1.580488e+11   \n",
       "1884570           174911.52    31143.725814          3.059404e+10   \n",
       "1664586           322270.52   337733.459976          1.038583e+11   \n",
       "1022238           282391.52   213683.445187          7.974497e+10   \n",
       "...                     ...             ...                   ...   \n",
       "2003274           163577.52    37381.509829          2.675761e+10   \n",
       "1570006           280694.52   230209.036018          7.878941e+10   \n",
       "732180           -275094.48  -350093.687361          7.567697e+10   \n",
       "110268           -327927.48  -430477.509212          1.075364e+11   \n",
       "1692743           275150.52   320116.702273          7.570781e+10   \n",
       "\n",
       "         yhat_res_squared  yhat_mean_res  yhat_mean_res_squared  \n",
       "53357        7.692145e+10   13076.648320           1.709987e+08  \n",
       "1933579      1.253231e+11  -43543.544618           1.896040e+09  \n",
       "1884570      9.699317e+08 -143767.794186           2.066918e+10  \n",
       "1664586      1.140639e+11   15462.939976           2.391025e+08  \n",
       "1022238      4.566061e+10  -68708.074813           4.720800e+09  \n",
       "...                   ...            ...                    ...  \n",
       "2003274      1.397377e+09 -126196.010171           1.592543e+10  \n",
       "1570006      5.299620e+10  -50485.483982           2.548784e+09  \n",
       "732180       1.225656e+11  -74999.207361           5.624881e+09  \n",
       "110268       1.853109e+11 -102550.029212           1.051651e+10  \n",
       "1692743      1.024747e+11   44966.182273           2.021958e+09  \n",
       "\n",
       "[1284141 rows x 10 columns]"
      ]
     },
     "execution_count": 106,
     "metadata": {},
     "output_type": "execute_result"
    }
   ],
   "source": [
    "preds"
   ]
  },
  {
   "cell_type": "code",
   "execution_count": 107,
   "id": "e3631794",
   "metadata": {},
   "outputs": [
    {
     "data": {
      "text/html": [
       "<div>\n",
       "<style scoped>\n",
       "    .dataframe tbody tr th:only-of-type {\n",
       "        vertical-align: middle;\n",
       "    }\n",
       "\n",
       "    .dataframe tbody tr th {\n",
       "        vertical-align: top;\n",
       "    }\n",
       "\n",
       "    .dataframe thead th {\n",
       "        text-align: right;\n",
       "    }\n",
       "</style>\n",
       "<table border=\"1\" class=\"dataframe\">\n",
       "  <thead>\n",
       "    <tr style=\"text-align: right;\">\n",
       "      <th></th>\n",
       "      <th>metric</th>\n",
       "      <th>model_values</th>\n",
       "    </tr>\n",
       "  </thead>\n",
       "  <tbody>\n",
       "    <tr>\n",
       "      <th>0</th>\n",
       "      <td>sse</td>\n",
       "      <td>4.829883e+17</td>\n",
       "    </tr>\n",
       "    <tr>\n",
       "      <th>1</th>\n",
       "      <td>ess</td>\n",
       "      <td>1.122693e+17</td>\n",
       "    </tr>\n",
       "    <tr>\n",
       "      <th>2</th>\n",
       "      <td>tss</td>\n",
       "      <td>5.952576e+17</td>\n",
       "    </tr>\n",
       "    <tr>\n",
       "      <th>3</th>\n",
       "      <td>mse</td>\n",
       "      <td>3.761178e+11</td>\n",
       "    </tr>\n",
       "    <tr>\n",
       "      <th>4</th>\n",
       "      <td>rmse</td>\n",
       "      <td>6.132844e+05</td>\n",
       "    </tr>\n",
       "    <tr>\n",
       "      <th>5</th>\n",
       "      <td>var_score</td>\n",
       "      <td>1.886063e-01</td>\n",
       "    </tr>\n",
       "  </tbody>\n",
       "</table>\n",
       "</div>"
      ],
      "text/plain": [
       "      metric  model_values\n",
       "0        sse  4.829883e+17\n",
       "1        ess  1.122693e+17\n",
       "2        tss  5.952576e+17\n",
       "3        mse  3.761178e+11\n",
       "4       rmse  6.132844e+05\n",
       "5  var_score  1.886063e-01"
      ]
     },
     "execution_count": 107,
     "metadata": {},
     "output_type": "execute_result"
    }
   ],
   "source": [
    "eval_metrics"
   ]
  },
  {
   "cell_type": "code",
   "execution_count": 123,
   "id": "38114265",
   "metadata": {},
   "outputs": [],
   "source": [
    "def baseline_mean_errors(preds, target, baseline):\n",
    "    \n",
    "    seed = 42\n",
    "\n",
    "    preds['baseline_residuals'] = preds['baseline_preds'] - preds[target]\n",
    "    preds['yhat_residuals'] = preds['yhat'] - preds[target]\n",
    "    \n",
    "    preds['baseline_res_squared'] = preds['baseline_residuals'] ** 2\n",
    "    preds['yhat_res_squared'] = preds['yhat_residuals'] ** 2\n",
    "        \n",
    "    preds['yhat_mean_res'] = preds['yhat'] - preds['baseline_preds']\n",
    "    preds['yhat_mean_res_squared'] = preds['yhat_mean_res'] ** 2\n",
    "    \n",
    "    ess_baseline = 0\n",
    "    sse_baseline = mean_squared_error(preds[target], preds['baseline_preds'])*len(preds)\n",
    "    tss_baseline = sse_baseline + ess_baseline    \n",
    "    mse_baseline = mean_squared_error(preds[target], preds['baseline_preds'])    \n",
    "    rmse_baseline = sqrt(mean_squared_error(preds[target], preds['baseline_preds']))\n",
    "    \n",
    "    eval_metrics = pd.DataFrame(np.array(['sse','ess','tss', 'mse', 'rmse']), columns=['metric'])\n",
    "    eval_metrics['model_values'] = [sse_baseline, ess_baseline, tss_baseline, \n",
    "                                    mse_baseline, rmse_baseline]\n",
    "\n",
    "    return preds, eval_metrics"
   ]
  },
  {
   "cell_type": "code",
   "execution_count": 125,
   "id": "35d88a3c",
   "metadata": {},
   "outputs": [],
   "source": [
    "preds, eval_metrics = baseline_mean_errors(preds, 'tax_value', 'baseline')"
   ]
  },
  {
   "cell_type": "code",
   "execution_count": 128,
   "id": "6a2a5700",
   "metadata": {},
   "outputs": [
    {
     "data": {
      "text/html": [
       "<div>\n",
       "<style scoped>\n",
       "    .dataframe tbody tr th:only-of-type {\n",
       "        vertical-align: middle;\n",
       "    }\n",
       "\n",
       "    .dataframe tbody tr th {\n",
       "        vertical-align: top;\n",
       "    }\n",
       "\n",
       "    .dataframe thead th {\n",
       "        text-align: right;\n",
       "    }\n",
       "</style>\n",
       "<table border=\"1\" class=\"dataframe\">\n",
       "  <thead>\n",
       "    <tr style=\"text-align: right;\">\n",
       "      <th></th>\n",
       "      <th>square_ft</th>\n",
       "      <th>tax_value</th>\n",
       "      <th>baseline_preds</th>\n",
       "      <th>yhat</th>\n",
       "      <th>baseline_residuals</th>\n",
       "      <th>yhat_residuals</th>\n",
       "      <th>baseline_res_squared</th>\n",
       "      <th>yhat_res_squared</th>\n",
       "      <th>yhat_mean_res</th>\n",
       "      <th>yhat_mean_res_squared</th>\n",
       "    </tr>\n",
       "  </thead>\n",
       "  <tbody>\n",
       "    <tr>\n",
       "      <th>53357</th>\n",
       "      <td>1923</td>\n",
       "      <td>196403</td>\n",
       "      <td>460673.52</td>\n",
       "      <td>473750.168320</td>\n",
       "      <td>264270.52</td>\n",
       "      <td>277347.168320</td>\n",
       "      <td>6.983891e+10</td>\n",
       "      <td>7.692145e+10</td>\n",
       "      <td>13076.648320</td>\n",
       "      <td>1.709987e+08</td>\n",
       "    </tr>\n",
       "    <tr>\n",
       "      <th>1933579</th>\n",
       "      <td>1662</td>\n",
       "      <td>63120</td>\n",
       "      <td>460673.52</td>\n",
       "      <td>417129.975382</td>\n",
       "      <td>397553.52</td>\n",
       "      <td>354009.975382</td>\n",
       "      <td>1.580488e+11</td>\n",
       "      <td>1.253231e+11</td>\n",
       "      <td>-43543.544618</td>\n",
       "      <td>1.896040e+09</td>\n",
       "    </tr>\n",
       "    <tr>\n",
       "      <th>1884570</th>\n",
       "      <td>1200</td>\n",
       "      <td>285762</td>\n",
       "      <td>460673.52</td>\n",
       "      <td>316905.725814</td>\n",
       "      <td>174911.52</td>\n",
       "      <td>31143.725814</td>\n",
       "      <td>3.059404e+10</td>\n",
       "      <td>9.699317e+08</td>\n",
       "      <td>-143767.794186</td>\n",
       "      <td>2.066918e+10</td>\n",
       "    </tr>\n",
       "    <tr>\n",
       "      <th>1664586</th>\n",
       "      <td>1934</td>\n",
       "      <td>138403</td>\n",
       "      <td>460673.52</td>\n",
       "      <td>476136.459976</td>\n",
       "      <td>322270.52</td>\n",
       "      <td>337733.459976</td>\n",
       "      <td>1.038583e+11</td>\n",
       "      <td>1.140639e+11</td>\n",
       "      <td>15462.939976</td>\n",
       "      <td>2.391025e+08</td>\n",
       "    </tr>\n",
       "    <tr>\n",
       "      <th>1022238</th>\n",
       "      <td>1546</td>\n",
       "      <td>178282</td>\n",
       "      <td>460673.52</td>\n",
       "      <td>391965.445187</td>\n",
       "      <td>282391.52</td>\n",
       "      <td>213683.445187</td>\n",
       "      <td>7.974497e+10</td>\n",
       "      <td>4.566061e+10</td>\n",
       "      <td>-68708.074813</td>\n",
       "      <td>4.720800e+09</td>\n",
       "    </tr>\n",
       "    <tr>\n",
       "      <th>...</th>\n",
       "      <td>...</td>\n",
       "      <td>...</td>\n",
       "      <td>...</td>\n",
       "      <td>...</td>\n",
       "      <td>...</td>\n",
       "      <td>...</td>\n",
       "      <td>...</td>\n",
       "      <td>...</td>\n",
       "      <td>...</td>\n",
       "      <td>...</td>\n",
       "    </tr>\n",
       "    <tr>\n",
       "      <th>2003274</th>\n",
       "      <td>1281</td>\n",
       "      <td>297096</td>\n",
       "      <td>460673.52</td>\n",
       "      <td>334477.509829</td>\n",
       "      <td>163577.52</td>\n",
       "      <td>37381.509829</td>\n",
       "      <td>2.675761e+10</td>\n",
       "      <td>1.397377e+09</td>\n",
       "      <td>-126196.010171</td>\n",
       "      <td>1.592543e+10</td>\n",
       "    </tr>\n",
       "    <tr>\n",
       "      <th>1570006</th>\n",
       "      <td>1630</td>\n",
       "      <td>179979</td>\n",
       "      <td>460673.52</td>\n",
       "      <td>410188.036018</td>\n",
       "      <td>280694.52</td>\n",
       "      <td>230209.036018</td>\n",
       "      <td>7.878941e+10</td>\n",
       "      <td>5.299620e+10</td>\n",
       "      <td>-50485.483982</td>\n",
       "      <td>2.548784e+09</td>\n",
       "    </tr>\n",
       "    <tr>\n",
       "      <th>732180</th>\n",
       "      <td>1517</td>\n",
       "      <td>735768</td>\n",
       "      <td>460673.52</td>\n",
       "      <td>385674.312639</td>\n",
       "      <td>-275094.48</td>\n",
       "      <td>-350093.687361</td>\n",
       "      <td>7.567697e+10</td>\n",
       "      <td>1.225656e+11</td>\n",
       "      <td>-74999.207361</td>\n",
       "      <td>5.624881e+09</td>\n",
       "    </tr>\n",
       "    <tr>\n",
       "      <th>110268</th>\n",
       "      <td>1390</td>\n",
       "      <td>788601</td>\n",
       "      <td>460673.52</td>\n",
       "      <td>358123.490788</td>\n",
       "      <td>-327927.48</td>\n",
       "      <td>-430477.509212</td>\n",
       "      <td>1.075364e+11</td>\n",
       "      <td>1.853109e+11</td>\n",
       "      <td>-102550.029212</td>\n",
       "      <td>1.051651e+10</td>\n",
       "    </tr>\n",
       "    <tr>\n",
       "      <th>1692743</th>\n",
       "      <td>2070</td>\n",
       "      <td>185523</td>\n",
       "      <td>460673.52</td>\n",
       "      <td>505639.702273</td>\n",
       "      <td>275150.52</td>\n",
       "      <td>320116.702273</td>\n",
       "      <td>7.570781e+10</td>\n",
       "      <td>1.024747e+11</td>\n",
       "      <td>44966.182273</td>\n",
       "      <td>2.021958e+09</td>\n",
       "    </tr>\n",
       "  </tbody>\n",
       "</table>\n",
       "<p>1284141 rows × 10 columns</p>\n",
       "</div>"
      ],
      "text/plain": [
       "         square_ft  tax_value  baseline_preds           yhat  \\\n",
       "53357         1923     196403       460673.52  473750.168320   \n",
       "1933579       1662      63120       460673.52  417129.975382   \n",
       "1884570       1200     285762       460673.52  316905.725814   \n",
       "1664586       1934     138403       460673.52  476136.459976   \n",
       "1022238       1546     178282       460673.52  391965.445187   \n",
       "...            ...        ...             ...            ...   \n",
       "2003274       1281     297096       460673.52  334477.509829   \n",
       "1570006       1630     179979       460673.52  410188.036018   \n",
       "732180        1517     735768       460673.52  385674.312639   \n",
       "110268        1390     788601       460673.52  358123.490788   \n",
       "1692743       2070     185523       460673.52  505639.702273   \n",
       "\n",
       "         baseline_residuals  yhat_residuals  baseline_res_squared  \\\n",
       "53357             264270.52   277347.168320          6.983891e+10   \n",
       "1933579           397553.52   354009.975382          1.580488e+11   \n",
       "1884570           174911.52    31143.725814          3.059404e+10   \n",
       "1664586           322270.52   337733.459976          1.038583e+11   \n",
       "1022238           282391.52   213683.445187          7.974497e+10   \n",
       "...                     ...             ...                   ...   \n",
       "2003274           163577.52    37381.509829          2.675761e+10   \n",
       "1570006           280694.52   230209.036018          7.878941e+10   \n",
       "732180           -275094.48  -350093.687361          7.567697e+10   \n",
       "110268           -327927.48  -430477.509212          1.075364e+11   \n",
       "1692743           275150.52   320116.702273          7.570781e+10   \n",
       "\n",
       "         yhat_res_squared  yhat_mean_res  yhat_mean_res_squared  \n",
       "53357        7.692145e+10   13076.648320           1.709987e+08  \n",
       "1933579      1.253231e+11  -43543.544618           1.896040e+09  \n",
       "1884570      9.699317e+08 -143767.794186           2.066918e+10  \n",
       "1664586      1.140639e+11   15462.939976           2.391025e+08  \n",
       "1022238      4.566061e+10  -68708.074813           4.720800e+09  \n",
       "...                   ...            ...                    ...  \n",
       "2003274      1.397377e+09 -126196.010171           1.592543e+10  \n",
       "1570006      5.299620e+10  -50485.483982           2.548784e+09  \n",
       "732180       1.225656e+11  -74999.207361           5.624881e+09  \n",
       "110268       1.853109e+11 -102550.029212           1.051651e+10  \n",
       "1692743      1.024747e+11   44966.182273           2.021958e+09  \n",
       "\n",
       "[1284141 rows x 10 columns]"
      ]
     },
     "execution_count": 128,
     "metadata": {},
     "output_type": "execute_result"
    }
   ],
   "source": [
    "preds"
   ]
  },
  {
   "cell_type": "code",
   "execution_count": 129,
   "id": "4d92f4cb",
   "metadata": {},
   "outputs": [
    {
     "data": {
      "text/html": [
       "<div>\n",
       "<style scoped>\n",
       "    .dataframe tbody tr th:only-of-type {\n",
       "        vertical-align: middle;\n",
       "    }\n",
       "\n",
       "    .dataframe tbody tr th {\n",
       "        vertical-align: top;\n",
       "    }\n",
       "\n",
       "    .dataframe thead th {\n",
       "        text-align: right;\n",
       "    }\n",
       "</style>\n",
       "<table border=\"1\" class=\"dataframe\">\n",
       "  <thead>\n",
       "    <tr style=\"text-align: right;\">\n",
       "      <th></th>\n",
       "      <th>metric</th>\n",
       "      <th>model_values</th>\n",
       "    </tr>\n",
       "  </thead>\n",
       "  <tbody>\n",
       "    <tr>\n",
       "      <th>0</th>\n",
       "      <td>sse</td>\n",
       "      <td>5.952576e+17</td>\n",
       "    </tr>\n",
       "    <tr>\n",
       "      <th>1</th>\n",
       "      <td>ess</td>\n",
       "      <td>0.000000e+00</td>\n",
       "    </tr>\n",
       "    <tr>\n",
       "      <th>2</th>\n",
       "      <td>tss</td>\n",
       "      <td>5.952576e+17</td>\n",
       "    </tr>\n",
       "    <tr>\n",
       "      <th>3</th>\n",
       "      <td>mse</td>\n",
       "      <td>4.635454e+11</td>\n",
       "    </tr>\n",
       "    <tr>\n",
       "      <th>4</th>\n",
       "      <td>rmse</td>\n",
       "      <td>6.808417e+05</td>\n",
       "    </tr>\n",
       "  </tbody>\n",
       "</table>\n",
       "</div>"
      ],
      "text/plain": [
       "  metric  model_values\n",
       "0    sse  5.952576e+17\n",
       "1    ess  0.000000e+00\n",
       "2    tss  5.952576e+17\n",
       "3    mse  4.635454e+11\n",
       "4   rmse  6.808417e+05"
      ]
     },
     "execution_count": 129,
     "metadata": {},
     "output_type": "execute_result"
    }
   ],
   "source": [
    "eval_metrics"
   ]
  },
  {
   "cell_type": "code",
   "execution_count": 147,
   "id": "2f7b83b7",
   "metadata": {},
   "outputs": [],
   "source": [
    "def better_than_baseline(y, yhat):\n",
    "\n",
    "    sse, ess, tss, mse, rmse = regression_errors(y, yhat)\n",
    "    \n",
    "    sse_baseline, mse_baseline, rmse_baseline = baseline_mean_errors(y)\n",
    "    \n",
    "    if sse < sse_baseline:\n",
    "        print('My model performs better than baseline')\n",
    "    else:\n",
    "        print('My model performs worse than baseline')"
   ]
  },
  {
   "cell_type": "markdown",
   "id": "5e0c93f3",
   "metadata": {},
   "source": [
    "### Class review"
   ]
  },
  {
   "cell_type": "markdown",
   "id": "bd210d20",
   "metadata": {},
   "source": [
    "- Residuals = yhat - y\n",
    "\n",
    "- SSE (for predictions) = (train.residuals ** 2).sum()\n",
    "\n",
    "- ESS = ((train.yhat - train.tax_value.mean()) ** 2).sum()\n",
    "\n",
    "- TSS = ESS + SSE\n",
    "\n",
    "- MSE (for predictions) = \n",
    "    - SSE/len(train.yhat)\n",
    "    - mean_squared_error(train.tax_value, train.yhat)\n",
    "    \n",
    "- RMSE (for predictions)  = \n",
    "    - MSE ** .5\n",
    "    - math.sqrt(MSE)\n",
    "    \n",
    "- Baseline = train['baseline'] = train.tax_value.mean()\n",
    "\n",
    "- MSE (for baseline) = mean_squared_error(train.tax_value, train.baseline)\n",
    "      \n",
    "- SSE (for baseline) = MSE_baseline * len(train)\n",
    "\n",
    "- RMSE (for baseline) = MSE_baseline ** .5\n",
    "\n",
    "- Variance = \n",
    "    - ESS / TSS\n",
    "    - r2_score(train.tax_value, train.yhat\n",
    "    - explained_variance_score(train.tax_value, train.yhat)"
   ]
  },
  {
   "cell_type": "code",
   "execution_count": 130,
   "id": "3ecd4c2d",
   "metadata": {},
   "outputs": [],
   "source": [
    "def plot_residuals(y, yhat):\n",
    "    '''\n",
    "    This function takes in the actual value and predicted value \n",
    "    then creates a scatter plot of those values\n",
    "    '''\n",
    "    \n",
    "    residuals = y - yhat\n",
    "    \n",
    "    plt.scatter(x=y, y=residuals)\n",
    "    plt.xlabel('Home Value')\n",
    "    plt.ylabel('Residuals')\n",
    "    plt.title('Residual vs Home Value Plot')\n",
    "    plt.show()"
   ]
  },
  {
   "cell_type": "code",
   "execution_count": 135,
   "id": "9a617c2e",
   "metadata": {},
   "outputs": [],
   "source": [
    "def regression_errors(y, yhat):\n",
    "    '''\n",
    "    This function takes in the actual value and predicted value \n",
    "    then outputs: the sse, ess, tss, mse, and rmse\n",
    "    '''\n",
    "    \n",
    "    mse = mean_squared_error(y, yhat)\n",
    "    sse = mse * len(y)\n",
    "    rmse = math.sqrt(mse)\n",
    "    ess = ((yhat - y.mean())**2).sum()\n",
    "    tss = ess + sse\n",
    "    \n",
    "    return mse, sse, rmse, ess, tss"
   ]
  },
  {
   "cell_type": "code",
   "execution_count": null,
   "id": "0651d7e6",
   "metadata": {},
   "outputs": [],
   "source": [
    "def regression_errors_print(y, yhat):\n",
    "    '''\n",
    "    This function takes in the actual value and predicted value \n",
    "    then outputs: the sse, ess, tss, mse, and rmse\n",
    "    '''\n",
    "    \n",
    "    mse = mean_squared_error(y, yhat)\n",
    "    sse = mse * len(y)\n",
    "    rmse = math.sqrt(mse)\n",
    "    ess = ((yhat - y.mean())**2).sum()\n",
    "    tss = ess + sse\n",
    "        \n",
    "    print(f''' \n",
    "        SSE: {sse: .4f}\n",
    "        ESS: {ess: .4f}\n",
    "        TSS: {tss: .4f}\n",
    "        MSE: {mse: .4f}\n",
    "        RMSE: {rmse: .4f}\n",
    "        ''')"
   ]
  },
  {
   "cell_type": "code",
   "execution_count": null,
   "id": "6ce3ea33",
   "metadata": {},
   "outputs": [],
   "source": [
    "def baseline_mean_errors(y):\n",
    "    \n",
    "    baseline = np.repeat(y.mean(), len(y))\n",
    "    \n",
    "    mse = mean_squared_error(y, baseline)\n",
    "    sse = mse * len(y)\n",
    "    rmse = mse ** .5\n",
    "    \n",
    "    return mse, sse, rmse"
   ]
  }
 ],
 "metadata": {
  "kernelspec": {
   "display_name": "Python 3 (ipykernel)",
   "language": "python",
   "name": "python3"
  },
  "language_info": {
   "codemirror_mode": {
    "name": "ipython",
    "version": 3
   },
   "file_extension": ".py",
   "mimetype": "text/x-python",
   "name": "python",
   "nbconvert_exporter": "python",
   "pygments_lexer": "ipython3",
   "version": "3.9.15"
  },
  "toc": {
   "base_numbering": 1,
   "nav_menu": {},
   "number_sections": true,
   "sideBar": true,
   "skip_h1_title": false,
   "title_cell": "Table of Contents",
   "title_sidebar": "Contents",
   "toc_cell": false,
   "toc_position": {},
   "toc_section_display": true,
   "toc_window_display": false
  }
 },
 "nbformat": 4,
 "nbformat_minor": 5
}
