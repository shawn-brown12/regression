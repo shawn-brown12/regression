{
 "cells": [
  {
   "cell_type": "markdown",
   "id": "d932ce8a",
   "metadata": {},
   "source": [
    "# What is Regression?"
   ]
  },
  {
   "cell_type": "markdown",
   "id": "eb10e718",
   "metadata": {},
   "source": [
    "- Regression is a supervised learning technique\n",
    "    - Feed features and answer in \n",
    "        - get model/algorithm out\n",
    "- Target is a continuous variable \n",
    "    - for example, how much something costs\n",
    "    - New evaluation metrics, like RMSE (root mean squared error)\n",
    "- Same data structure\n",
    "    - one column - one feature, one row - one observation\n",
    "- Simple regression \n",
    "    - One feature, linear\n",
    "- Multiple regression \n",
    "    - multiple features, linear\n",
    "- Polynomial regression \n",
    "    - non-linear        "
   ]
  },
  {
   "cell_type": "markdown",
   "id": "5be2305e",
   "metadata": {},
   "source": [
    "# Acquire\n",
    "\n",
    "- SQL\n",
    "    - Writing queries\n",
    "    - Using pd.read_sql\n",
    "    - Some function to generate server url\n",
    "- Get to know the data\n",
    "    - .info, .describe, .head, .shape\n",
    "    - Histograms, countplots"
   ]
  },
  {
   "cell_type": "markdown",
   "id": "979e5116",
   "metadata": {},
   "source": [
    "# Prepare\n",
    "\n",
    "- Null values\n",
    "    - Investigate nulls \n",
    "    - Determine meaning\n",
    "    - Take action (drop, impute)\n",
    "    - .dropna, .isna, .value_counts\n",
    "- Clean data\n",
    "    - Encode categoricals as dummies (pd.get_dummies( ))\n",
    "    - Change data types (.astype(\n",
    "    ))\n",
    "    - Tidy data\n",
    "        - One observation in each row\n",
    "        - One feature in each column\n",
    "- Handle Outliers\n",
    "    - Drop\n",
    "    - Cap\n",
    "- Split our data\n",
    "    - train_test_split\n",
    "        - test subests of original data"
   ]
  },
  {
   "cell_type": "markdown",
   "id": "2937e2af",
   "metadata": {},
   "source": [
    "# Explore\n",
    "\n",
    "- Ask questions of our data\n",
    "    - Is x causing y?\n",
    "- Build visualizations\n",
    "- Use statistics to determine significance"
   ]
  },
  {
   "cell_type": "markdown",
   "id": "ef2d5f1f",
   "metadata": {},
   "source": [
    "# Model\n",
    "\n",
    "- Scale the data\n",
    "    - MinMaxScaler\n",
    "        - makes all numbers fall between 0 and 1\n",
    "    - StandardScaler \n",
    "        - makes all numbers the number of standard deviations from the mean \n",
    "    - Do not explore on scaled data\n",
    "    - Do not scale target variable\n",
    "- Feature engineering\n",
    "    - Encode patterns\n",
    "    - Combine two or more fields\n",
    "        - Especially if they're highly correlated\n",
    "- Feature Selection\n",
    "    - RFE (recursive feature elimination)\n",
    "    - Select KBest\n",
    "    - Curse of Dimensionality\n",
    "        - The idea that if the dimensions of your dataframe extend out significantly, the less effective the model can be\n",
    "- Actual Modeling\n",
    "    - Fit\n",
    "    - Predict\n",
    "    - Evaluate (RMSE)"
   ]
  },
  {
   "cell_type": "markdown",
   "id": "1ada86b3",
   "metadata": {},
   "source": []
  }
 ],
 "metadata": {
  "kernelspec": {
   "display_name": "Python 3 (ipykernel)",
   "language": "python",
   "name": "python3"
  },
  "language_info": {
   "codemirror_mode": {
    "name": "ipython",
    "version": 3
   },
   "file_extension": ".py",
   "mimetype": "text/x-python",
   "name": "python",
   "nbconvert_exporter": "python",
   "pygments_lexer": "ipython3",
   "version": "3.9.15"
  },
  "toc": {
   "base_numbering": 1,
   "nav_menu": {},
   "number_sections": true,
   "sideBar": true,
   "skip_h1_title": false,
   "title_cell": "Table of Contents",
   "title_sidebar": "Contents",
   "toc_cell": false,
   "toc_position": {},
   "toc_section_display": true,
   "toc_window_display": false
  }
 },
 "nbformat": 4,
 "nbformat_minor": 5
}
