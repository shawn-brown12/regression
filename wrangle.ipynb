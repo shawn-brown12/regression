{
 "cells": [
  {
   "cell_type": "code",
   "execution_count": 6,
   "id": "d8863ae3",
   "metadata": {},
   "outputs": [],
   "source": [
    "import pandas as pd\n",
    "import numpy as np\n",
    "import matplotlib.pyplot as plt\n",
    "import seaborn as sns\n",
    "\n",
    "import acquire\n",
    "import wrangling"
   ]
  },
  {
   "cell_type": "markdown",
   "id": "ad1a7343",
   "metadata": {},
   "source": [
    "Let's set up an example scenario as perspective for our regression exercises using the Zillow dataset.\n",
    "\n",
    "\n",
    "As a Codeup data science graduate, you want to show off your skills to the Zillow data science team in hopes of getting an interview for a position you saw pop up on LinkedIn. You thought it might look impressive to build an end-to-end project in which you use some of their Kaggle data to predict property values using some of their available features; who knows, you might even do some feature engineering to blow them away. Your goal is to predict the values of single unit properties using the obervations from 2017.\n",
    "\n",
    "\n",
    "In these exercises, you will complete the first step toward the above goal: acquire and prepare the necessary Zillow data from the zillow database in the Codeup database server.\n",
    "\n"
   ]
  },
  {
   "cell_type": "markdown",
   "id": "16278f1c",
   "metadata": {},
   "source": [
    "#1 Acquire bedroomcnt, bathroomcnt, calculatedfinishedsquarefeet, taxvaluedollarcnt, yearbuilt, taxamount, and fips from the zillow database for all 'Single Family Residential' properties.\n"
   ]
  },
  {
   "cell_type": "code",
   "execution_count": 7,
   "id": "667ae413",
   "metadata": {},
   "outputs": [],
   "source": [
    "df = wrangling.get_zillow()"
   ]
  },
  {
   "cell_type": "code",
   "execution_count": 8,
   "id": "954035ea",
   "metadata": {
    "scrolled": true
   },
   "outputs": [
    {
     "data": {
      "text/html": [
       "<div>\n",
       "<style scoped>\n",
       "    .dataframe tbody tr th:only-of-type {\n",
       "        vertical-align: middle;\n",
       "    }\n",
       "\n",
       "    .dataframe tbody tr th {\n",
       "        vertical-align: top;\n",
       "    }\n",
       "\n",
       "    .dataframe thead th {\n",
       "        text-align: right;\n",
       "    }\n",
       "</style>\n",
       "<table border=\"1\" class=\"dataframe\">\n",
       "  <thead>\n",
       "    <tr style=\"text-align: right;\">\n",
       "      <th></th>\n",
       "      <th>bedrooms</th>\n",
       "      <th>bathrooms</th>\n",
       "      <th>square_ft</th>\n",
       "      <th>tax_value</th>\n",
       "      <th>built</th>\n",
       "      <th>taxamount</th>\n",
       "      <th>fips</th>\n",
       "    </tr>\n",
       "  </thead>\n",
       "  <tbody>\n",
       "    <tr>\n",
       "      <th>4</th>\n",
       "      <td>4</td>\n",
       "      <td>2.0</td>\n",
       "      <td>3633</td>\n",
       "      <td>296425</td>\n",
       "      <td>2005</td>\n",
       "      <td>6941.39</td>\n",
       "      <td>6037</td>\n",
       "    </tr>\n",
       "    <tr>\n",
       "      <th>6</th>\n",
       "      <td>3</td>\n",
       "      <td>4.0</td>\n",
       "      <td>1620</td>\n",
       "      <td>847770</td>\n",
       "      <td>2011</td>\n",
       "      <td>10244.94</td>\n",
       "      <td>6037</td>\n",
       "    </tr>\n",
       "    <tr>\n",
       "      <th>7</th>\n",
       "      <td>3</td>\n",
       "      <td>2.0</td>\n",
       "      <td>2077</td>\n",
       "      <td>646760</td>\n",
       "      <td>1926</td>\n",
       "      <td>7924.68</td>\n",
       "      <td>6037</td>\n",
       "    </tr>\n",
       "    <tr>\n",
       "      <th>11</th>\n",
       "      <td>0</td>\n",
       "      <td>0.0</td>\n",
       "      <td>1200</td>\n",
       "      <td>5328</td>\n",
       "      <td>1972</td>\n",
       "      <td>91.60</td>\n",
       "      <td>6037</td>\n",
       "    </tr>\n",
       "    <tr>\n",
       "      <th>14</th>\n",
       "      <td>0</td>\n",
       "      <td>0.0</td>\n",
       "      <td>171</td>\n",
       "      <td>6920</td>\n",
       "      <td>1973</td>\n",
       "      <td>255.17</td>\n",
       "      <td>6037</td>\n",
       "    </tr>\n",
       "  </tbody>\n",
       "</table>\n",
       "</div>"
      ],
      "text/plain": [
       "    bedrooms  bathrooms  square_ft  tax_value  built  taxamount  fips\n",
       "4          4        2.0       3633     296425   2005    6941.39  6037\n",
       "6          3        4.0       1620     847770   2011   10244.94  6037\n",
       "7          3        2.0       2077     646760   1926    7924.68  6037\n",
       "11         0        0.0       1200       5328   1972      91.60  6037\n",
       "14         0        0.0        171       6920   1973     255.17  6037"
      ]
     },
     "execution_count": 8,
     "metadata": {},
     "output_type": "execute_result"
    }
   ],
   "source": [
    "df.head()"
   ]
  },
  {
   "cell_type": "markdown",
   "id": "11d92f52",
   "metadata": {},
   "source": [
    "#2 Using your acquired Zillow data, walk through the summarization and cleaning steps in your wrangle.ipynb file like we did above. You may handle the missing values however you feel is appropriate and meaningful; remember to document your process and decisions using markdown and code commenting where helpful.\n"
   ]
  },
  {
   "cell_type": "code",
   "execution_count": 4,
   "id": "e575b6b8",
   "metadata": {},
   "outputs": [
    {
     "data": {
      "text/html": [
       "<div>\n",
       "<style scoped>\n",
       "    .dataframe tbody tr th:only-of-type {\n",
       "        vertical-align: middle;\n",
       "    }\n",
       "\n",
       "    .dataframe tbody tr th {\n",
       "        vertical-align: top;\n",
       "    }\n",
       "\n",
       "    .dataframe thead th {\n",
       "        text-align: right;\n",
       "    }\n",
       "</style>\n",
       "<table border=\"1\" class=\"dataframe\">\n",
       "  <thead>\n",
       "    <tr style=\"text-align: right;\">\n",
       "      <th></th>\n",
       "      <th>count</th>\n",
       "      <th>mean</th>\n",
       "      <th>std</th>\n",
       "      <th>min</th>\n",
       "      <th>25%</th>\n",
       "      <th>50%</th>\n",
       "      <th>75%</th>\n",
       "      <th>max</th>\n",
       "    </tr>\n",
       "  </thead>\n",
       "  <tbody>\n",
       "    <tr>\n",
       "      <th>Unnamed: 0</th>\n",
       "      <td>2152863.0</td>\n",
       "      <td>1.076431e+06</td>\n",
       "      <td>621478.160628</td>\n",
       "      <td>0.00</td>\n",
       "      <td>538215.50</td>\n",
       "      <td>1076431.00</td>\n",
       "      <td>1614646.50</td>\n",
       "      <td>2152862.00</td>\n",
       "    </tr>\n",
       "    <tr>\n",
       "      <th>bedroomcnt</th>\n",
       "      <td>2152852.0</td>\n",
       "      <td>3.287196e+00</td>\n",
       "      <td>0.954754</td>\n",
       "      <td>0.00</td>\n",
       "      <td>3.00</td>\n",
       "      <td>3.00</td>\n",
       "      <td>4.00</td>\n",
       "      <td>25.00</td>\n",
       "    </tr>\n",
       "    <tr>\n",
       "      <th>bathroomcnt</th>\n",
       "      <td>2152852.0</td>\n",
       "      <td>2.230688e+00</td>\n",
       "      <td>0.999280</td>\n",
       "      <td>0.00</td>\n",
       "      <td>2.00</td>\n",
       "      <td>2.00</td>\n",
       "      <td>3.00</td>\n",
       "      <td>32.00</td>\n",
       "    </tr>\n",
       "    <tr>\n",
       "      <th>calculatedfinishedsquarefeet</th>\n",
       "      <td>2144379.0</td>\n",
       "      <td>1.862855e+03</td>\n",
       "      <td>1222.125124</td>\n",
       "      <td>1.00</td>\n",
       "      <td>1257.00</td>\n",
       "      <td>1623.00</td>\n",
       "      <td>2208.00</td>\n",
       "      <td>952576.00</td>\n",
       "    </tr>\n",
       "    <tr>\n",
       "      <th>taxvaluedollarcnt</th>\n",
       "      <td>2152370.0</td>\n",
       "      <td>4.618962e+05</td>\n",
       "      <td>699676.049600</td>\n",
       "      <td>1.00</td>\n",
       "      <td>188170.25</td>\n",
       "      <td>327671.00</td>\n",
       "      <td>534527.00</td>\n",
       "      <td>98428909.00</td>\n",
       "    </tr>\n",
       "    <tr>\n",
       "      <th>yearbuilt</th>\n",
       "      <td>2143526.0</td>\n",
       "      <td>1.960950e+03</td>\n",
       "      <td>22.162196</td>\n",
       "      <td>1801.00</td>\n",
       "      <td>1949.00</td>\n",
       "      <td>1958.00</td>\n",
       "      <td>1976.00</td>\n",
       "      <td>2016.00</td>\n",
       "    </tr>\n",
       "    <tr>\n",
       "      <th>taxamount</th>\n",
       "      <td>2148421.0</td>\n",
       "      <td>5.634866e+03</td>\n",
       "      <td>8178.910249</td>\n",
       "      <td>1.85</td>\n",
       "      <td>2534.98</td>\n",
       "      <td>4108.95</td>\n",
       "      <td>6414.32</td>\n",
       "      <td>1337755.86</td>\n",
       "    </tr>\n",
       "    <tr>\n",
       "      <th>fips</th>\n",
       "      <td>2152863.0</td>\n",
       "      <td>6.048377e+03</td>\n",
       "      <td>20.433292</td>\n",
       "      <td>6037.00</td>\n",
       "      <td>6037.00</td>\n",
       "      <td>6037.00</td>\n",
       "      <td>6059.00</td>\n",
       "      <td>6111.00</td>\n",
       "    </tr>\n",
       "  </tbody>\n",
       "</table>\n",
       "</div>"
      ],
      "text/plain": [
       "                                  count          mean            std      min  \\\n",
       "Unnamed: 0                    2152863.0  1.076431e+06  621478.160628     0.00   \n",
       "bedroomcnt                    2152852.0  3.287196e+00       0.954754     0.00   \n",
       "bathroomcnt                   2152852.0  2.230688e+00       0.999280     0.00   \n",
       "calculatedfinishedsquarefeet  2144379.0  1.862855e+03    1222.125124     1.00   \n",
       "taxvaluedollarcnt             2152370.0  4.618962e+05  699676.049600     1.00   \n",
       "yearbuilt                     2143526.0  1.960950e+03      22.162196  1801.00   \n",
       "taxamount                     2148421.0  5.634866e+03    8178.910249     1.85   \n",
       "fips                          2152863.0  6.048377e+03      20.433292  6037.00   \n",
       "\n",
       "                                    25%         50%         75%          max  \n",
       "Unnamed: 0                    538215.50  1076431.00  1614646.50   2152862.00  \n",
       "bedroomcnt                         3.00        3.00        4.00        25.00  \n",
       "bathroomcnt                        2.00        2.00        3.00        32.00  \n",
       "calculatedfinishedsquarefeet    1257.00     1623.00     2208.00    952576.00  \n",
       "taxvaluedollarcnt             188170.25   327671.00   534527.00  98428909.00  \n",
       "yearbuilt                       1949.00     1958.00     1976.00      2016.00  \n",
       "taxamount                       2534.98     4108.95     6414.32   1337755.86  \n",
       "fips                            6037.00     6037.00     6059.00      6111.00  "
      ]
     },
     "execution_count": 4,
     "metadata": {},
     "output_type": "execute_result"
    }
   ],
   "source": [
    "df.describe().T"
   ]
  },
  {
   "cell_type": "code",
   "execution_count": 5,
   "id": "3a9a747e",
   "metadata": {},
   "outputs": [
    {
     "data": {
      "text/plain": [
       "(2152863, 8)"
      ]
     },
     "execution_count": 5,
     "metadata": {},
     "output_type": "execute_result"
    }
   ],
   "source": [
    "df.shape"
   ]
  },
  {
   "cell_type": "code",
   "execution_count": 6,
   "id": "d628444b",
   "metadata": {},
   "outputs": [
    {
     "data": {
      "text/plain": [
       "Unnamed: 0                         0\n",
       "bedroomcnt                        11\n",
       "bathroomcnt                       11\n",
       "calculatedfinishedsquarefeet    8484\n",
       "taxvaluedollarcnt                493\n",
       "yearbuilt                       9337\n",
       "taxamount                       4442\n",
       "fips                               0\n",
       "dtype: int64"
      ]
     },
     "execution_count": 6,
     "metadata": {},
     "output_type": "execute_result"
    }
   ],
   "source": [
    "df.isna().sum()"
   ]
  },
  {
   "cell_type": "code",
   "execution_count": 7,
   "id": "ab189971",
   "metadata": {},
   "outputs": [
    {
     "data": {
      "text/plain": [
       "Unnamed: 0                        int64\n",
       "bedroomcnt                      float64\n",
       "bathroomcnt                     float64\n",
       "calculatedfinishedsquarefeet    float64\n",
       "taxvaluedollarcnt               float64\n",
       "yearbuilt                       float64\n",
       "taxamount                       float64\n",
       "fips                            float64\n",
       "dtype: object"
      ]
     },
     "execution_count": 7,
     "metadata": {},
     "output_type": "execute_result"
    }
   ],
   "source": [
    "df.dtypes"
   ]
  },
  {
   "cell_type": "code",
   "execution_count": 19,
   "id": "7b340436",
   "metadata": {
    "scrolled": false
   },
   "outputs": [
    {
     "data": {
      "image/png": "[encoded data removed]",
      "text/plain": [
       "<Figure size 640x480 with 1 Axes>"
      ]
     },
     "metadata": {},
     "output_type": "display_data"
    },
    {
     "data": {
      "image/png": "[encoded data removed]",
      "text/plain": [
       "<Figure size 640x480 with 1 Axes>"
      ]
     },
     "metadata": {},
     "output_type": "display_data"
    },
    {
     "data": {
      "image/png": "[encoded data removed]",
      "text/plain": [
       "<Figure size 640x480 with 1 Axes>"
      ]
     },
     "metadata": {},
     "output_type": "display_data"
    },
    {
     "data": {
      "image/png": "[encoded data removed]",
      "text/plain": [
       "<Figure size 640x480 with 1 Axes>"
      ]
     },
     "metadata": {},
     "output_type": "display_data"
    },
    {
     "data": {
      "image/png": "[encoded data removed]",
      "text/plain": [
       "<Figure size 640x480 with 1 Axes>"
      ]
     },
     "metadata": {},
     "output_type": "display_data"
    },
    {
     "data": {
      "image/png": "[encoded data removed]",
      "text/plain": [
       "<Figure size 640x480 with 1 Axes>"
      ]
     },
     "metadata": {},
     "output_type": "display_data"
    },
    {
     "data": {
      "image/png": "[encoded data removed]",
      "text/plain": [
       "<Figure size 640x480 with 1 Axes>"
      ]
     },
     "metadata": {},
     "output_type": "display_data"
    }
   ],
   "source": [
    "#solid way to visualize outliers\n",
    "for col in df.columns:\n",
    "    \n",
    "    sns.boxplot(x=col, data=df)\n",
    "    plt.title(f'{col} distribution')\n",
    "    plt.show()"
   ]
  },
  {
   "cell_type": "markdown",
   "id": "191c9052",
   "metadata": {},
   "source": [
    "- Since we are working with such a huge dataset, the roughly 12,000 rows we lose from dropping the nulls seemed reasonable. None of the missing values struck me as important enough to try to impute the mean or median to avoid dropping. There *are* some outliers, but at this point I'm somewhat unsure as to how to deal with them. "
   ]
  },
  {
   "cell_type": "markdown",
   "id": "dcf7fe13",
   "metadata": {},
   "source": [
    "#3 Store all of the necessary functions to automate your process from acquiring the data to returning a cleaned dataframe with no missing values in your wrangle.py file. Name your final function wrangle_zillow.\n"
   ]
  },
  {
   "cell_type": "code",
   "execution_count": null,
   "id": "aaf84936",
   "metadata": {},
   "outputs": [],
   "source": [
    "def wrangle_zillow(df):\n",
    "    '''\n",
    "    This function will, using an already existing DataFrame, clean the zillow_2017.csv created with my acquire function to make it ready to be split and explored.\n",
    "    '''\n",
    "    df = df.drop(columns='Unnamed: 0')\n",
    "    df = df.dropna()\n",
    "    \n",
    "    df.bedroomcnt = df.bedroomcnt.astype(int)\n",
    "    df.calculatedfinishedsquarefeet = df.calculatedfinishedsquarefeet.astype(int)\n",
    "    df.taxvaluedollarcnt = df.taxvaluedollarcnt.astype(int)\n",
    "    df.yearbuilt = df.yearbuilt.astype(int)\n",
    "    df.fips = df.fips.astype(int)\n",
    "    \n",
    "    df = df.rename(columns= {'bedroomcnt': 'bedrooms',\n",
    "                             'bathroomcnt': 'bathrooms',\n",
    "                             'calculatedfinishedsquarefeet': 'square_ft',\n",
    "                             'taxvaluedollarcnt':'tax_value',\n",
    "                             'yearbuilt':'built',\n",
    "                             'taxamaount':'taxes'\n",
    "                             })\n",
    "        \n",
    "    return df"
   ]
  },
  {
   "cell_type": "code",
   "execution_count": 16,
   "id": "4a6b3807",
   "metadata": {},
   "outputs": [],
   "source": [
    "df = df.rename(columns= {'bedroomcnt': 'bedrooms',\n",
    "           'bathroomcnt': 'bathrooms',\n",
    "           'calculatedfinishedsquarefeet': 'square_ft',\n",
    "           'taxvaluedollarcnt':'tax_value',\n",
    "           'yearbuilt':'built',\n",
    "           'taxamount':'taxes'\n",
    "           })"
   ]
  },
  {
   "cell_type": "code",
   "execution_count": 5,
   "id": "7ee28304",
   "metadata": {},
   "outputs": [],
   "source": [
    "df = wrangling.wrangle_zillow(df)"
   ]
  },
  {
   "cell_type": "code",
   "execution_count": 18,
   "id": "2fe42ce7",
   "metadata": {},
   "outputs": [
    {
     "data": {
      "text/html": [
       "<div>\n",
       "<style scoped>\n",
       "    .dataframe tbody tr th:only-of-type {\n",
       "        vertical-align: middle;\n",
       "    }\n",
       "\n",
       "    .dataframe tbody tr th {\n",
       "        vertical-align: top;\n",
       "    }\n",
       "\n",
       "    .dataframe thead th {\n",
       "        text-align: right;\n",
       "    }\n",
       "</style>\n",
       "<table border=\"1\" class=\"dataframe\">\n",
       "  <thead>\n",
       "    <tr style=\"text-align: right;\">\n",
       "      <th></th>\n",
       "      <th>bedrooms</th>\n",
       "      <th>bathrooms</th>\n",
       "      <th>square_ft</th>\n",
       "      <th>tax_value</th>\n",
       "      <th>built</th>\n",
       "      <th>taxes</th>\n",
       "      <th>fips</th>\n",
       "    </tr>\n",
       "  </thead>\n",
       "  <tbody>\n",
       "    <tr>\n",
       "      <th>4</th>\n",
       "      <td>4</td>\n",
       "      <td>2.0</td>\n",
       "      <td>3633</td>\n",
       "      <td>296425</td>\n",
       "      <td>2005</td>\n",
       "      <td>6941.39</td>\n",
       "      <td>6037</td>\n",
       "    </tr>\n",
       "    <tr>\n",
       "      <th>6</th>\n",
       "      <td>3</td>\n",
       "      <td>4.0</td>\n",
       "      <td>1620</td>\n",
       "      <td>847770</td>\n",
       "      <td>2011</td>\n",
       "      <td>10244.94</td>\n",
       "      <td>6037</td>\n",
       "    </tr>\n",
       "    <tr>\n",
       "      <th>7</th>\n",
       "      <td>3</td>\n",
       "      <td>2.0</td>\n",
       "      <td>2077</td>\n",
       "      <td>646760</td>\n",
       "      <td>1926</td>\n",
       "      <td>7924.68</td>\n",
       "      <td>6037</td>\n",
       "    </tr>\n",
       "    <tr>\n",
       "      <th>11</th>\n",
       "      <td>0</td>\n",
       "      <td>0.0</td>\n",
       "      <td>1200</td>\n",
       "      <td>5328</td>\n",
       "      <td>1972</td>\n",
       "      <td>91.60</td>\n",
       "      <td>6037</td>\n",
       "    </tr>\n",
       "    <tr>\n",
       "      <th>14</th>\n",
       "      <td>0</td>\n",
       "      <td>0.0</td>\n",
       "      <td>171</td>\n",
       "      <td>6920</td>\n",
       "      <td>1973</td>\n",
       "      <td>255.17</td>\n",
       "      <td>6037</td>\n",
       "    </tr>\n",
       "  </tbody>\n",
       "</table>\n",
       "</div>"
      ],
      "text/plain": [
       "    bedrooms  bathrooms  square_ft  tax_value  built     taxes  fips\n",
       "4          4        2.0       3633     296425   2005   6941.39  6037\n",
       "6          3        4.0       1620     847770   2011  10244.94  6037\n",
       "7          3        2.0       2077     646760   1926   7924.68  6037\n",
       "11         0        0.0       1200       5328   1972     91.60  6037\n",
       "14         0        0.0        171       6920   1973    255.17  6037"
      ]
     },
     "execution_count": 18,
     "metadata": {},
     "output_type": "execute_result"
    }
   ],
   "source": [
    "df.head()"
   ]
  },
  {
   "cell_type": "code",
   "execution_count": null,
   "id": "191bf4f9",
   "metadata": {},
   "outputs": [],
   "source": []
  }
 ],
 "metadata": {
  "kernelspec": {
   "display_name": "Python 3 (ipykernel)",
   "language": "python",
   "name": "python3"
  },
  "language_info": {
   "codemirror_mode": {
    "name": "ipython",
    "version": 3
   },
   "file_extension": ".py",
   "mimetype": "text/x-python",
   "name": "python",
   "nbconvert_exporter": "python",
   "pygments_lexer": "ipython3",
   "version": "3.9.15"
  },
  "toc": {
   "base_numbering": 1,
   "nav_menu": {},
   "number_sections": true,
   "sideBar": true,
   "skip_h1_title": false,
   "title_cell": "Table of Contents",
   "title_sidebar": "Contents",
   "toc_cell": false,
   "toc_position": {},
   "toc_section_display": true,
   "toc_window_display": false
  }
 },
 "nbformat": 4,
 "nbformat_minor": 5
}
